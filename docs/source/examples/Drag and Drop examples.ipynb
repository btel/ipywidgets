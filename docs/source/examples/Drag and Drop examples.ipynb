{
 "cells": [
  {
   "cell_type": "markdown",
   "metadata": {},
   "source": [
    "## Draggable Label"
   ]
  },
  {
   "cell_type": "markdown",
   "metadata": {},
   "source": [
    "`DraggbelLabel` is a label that can be dragged and dropped to other fields."
   ]
  },
  {
   "cell_type": "code",
   "execution_count": 1,
   "metadata": {},
   "outputs": [],
   "source": [
    "from ipywidgets import DraggableLabel, Textarea\n",
    "l = DraggableLabel(\"Drag me\", draggable=False)\n",
    "l.draggable = True\n",
    "l"
   ]
  },
  {
   "cell_type": "markdown",
   "metadata": {},
   "source": [
    "You can drag this label anywhere (could be your shell etc.), but also to a text area:"
   ]
  },
  {
   "cell_type": "code",
   "execution_count": 2,
   "metadata": {},
   "outputs": [],
   "source": [
    "Textarea()"
   ]
  },
  {
   "cell_type": "markdown",
   "metadata": {},
   "source": [
    "## `on_drop` handler"
   ]
  },
  {
   "cell_type": "markdown",
   "metadata": {},
   "source": [
    "`DraggableLabel` can also become the drop zone (you can drop other stuff on it), if you implement the `on_drop` handler."
   ]
  },
  {
   "cell_type": "code",
   "execution_count": 3,
   "metadata": {},
   "outputs": [],
   "source": [
    "from ipywidgets import DraggableLabel\n",
    "l1 = DraggableLabel(\"Drag me\", draggable=True)\n",
    "l1"
   ]
  },
  {
   "cell_type": "markdown",
   "metadata": {},
   "source": [
    "Now, drag this label on the label below."
   ]
  },
  {
   "cell_type": "code",
   "execution_count": 4,
   "metadata": {},
   "outputs": [],
   "source": [
    "l2 = DraggableLabel(\"Drop on me\")\n",
    "def on_drop_handler(widget, data):\n",
    "    \"\"\"\"Arguments:\n",
    "    \n",
    "    widget : widget class\n",
    "        widget on which something was dropped\n",
    "        \n",
    "    data : dict\n",
    "        extra data sent from the dragged widget\"\"\"\n",
    "    \n",
    "    text = data['text/plain']\n",
    "    widget.value = \"congrats, you dropped '{}'\".format(text)\n",
    "l2.on_drop(on_drop_handler)\n",
    "l2"
   ]
  },
  {
   "cell_type": "markdown",
   "metadata": {},
   "source": [
    "**Note** : You can also drop other stuff (like files, images, links, selections, etc). Try it out!"
   ]
  },
  {
   "cell_type": "markdown",
   "metadata": {},
   "source": [
    "## Adding elements to the container"
   ]
  },
  {
   "cell_type": "markdown",
   "metadata": {},
   "source": [
    "You can drag widgets to Box container and its subclasses by simply dragging."
   ]
  },
  {
   "cell_type": "code",
   "execution_count": 5,
   "metadata": {},
   "outputs": [
    {
     "data": {
      "application/vnd.jupyter.widget-view+json": {
       "model_id": "8dd784e768464127bb95367456c32ef7",
       "version_major": 2,
       "version_minor": 0
      },
      "text/plain": [
       "DraggableLabel(value='Drag me 1', draggable=True)"
      ]
     },
     "metadata": {},
     "output_type": "display_data"
    }
   ],
   "source": [
    "DraggableLabel(\"Drag me 1\", draggable=True)"
   ]
  },
  {
   "cell_type": "code",
   "execution_count": 6,
   "metadata": {},
   "outputs": [
    {
     "data": {
      "application/vnd.jupyter.widget-view+json": {
       "model_id": "fd5572db35d94242808aa4fde2db51ec",
       "version_major": 2,
       "version_minor": 0
      },
      "text/plain": [
       "DraggableLabel(value='Drag me 2', draggable=True)"
      ]
     },
     "metadata": {},
     "output_type": "display_data"
    }
   ],
   "source": [
    "DraggableLabel(\"Drag me 2\", draggable=True)"
   ]
  },
  {
   "cell_type": "code",
   "execution_count": 7,
   "metadata": {},
   "outputs": [
    {
     "data": {
      "application/vnd.jupyter.widget-view+json": {
       "model_id": "a373196c6af54e7e969203c1d6823d96",
       "version_major": 2,
       "version_minor": 0
      },
      "text/plain": [
       "Box(children=(Label(value='drag labels here'),), dropzone=True, layout=Layout(height='100px', width='400px'))"
      ]
     },
     "metadata": {},
     "output_type": "display_data"
    }
   ],
   "source": [
    "from ipywidgets import Box, DraggableLabel, Layout, Label, VBox\n",
    "normal_box = Box([Label('drag labels here')],\n",
    "                 layout=Layout(width='400px', height='100px'),\n",
    "                 dropzone=True)\n",
    "normal_box"
   ]
  },
  {
   "cell_type": "markdown",
   "metadata": {},
   "source": [
    "It also works for Box subclasses:"
   ]
  },
  {
   "cell_type": "code",
   "execution_count": 8,
   "metadata": {},
   "outputs": [
    {
     "data": {
      "application/vnd.jupyter.widget-view+json": {
       "model_id": "3ffd607b2984404eab862213de38e746",
       "version_major": 2,
       "version_minor": 0
      },
      "text/plain": [
       "VBox(children=(Label(value='drag labels here'),), dropzone=True, layout=Layout(height='100px', width='200px'))"
      ]
     },
     "metadata": {},
     "output_type": "display_data"
    }
   ],
   "source": [
    "vbox = VBox([Label('drag labels here')],\n",
    "                 layout=Layout(width='200px', height='100px'),\n",
    "                 dropzone=True)\n",
    "vbox"
   ]
  },
  {
   "cell_type": "markdown",
   "metadata": {},
   "source": [
    "## Changing any widget into a drop zone with arbitrary drop operations"
   ]
  },
  {
   "cell_type": "markdown",
   "metadata": {},
   "source": [
    "If you have more specific needs for the drop behaviour you can also use DropBox widgets, which implements `on_drop` handlers."
   ]
  },
  {
   "cell_type": "markdown",
   "metadata": {},
   "source": [
    "This DropBox will replace elements with text of the dropped element (works also for stuff which is not widget):"
   ]
  },
  {
   "cell_type": "code",
   "execution_count": 9,
   "metadata": {},
   "outputs": [
    {
     "data": {
      "application/vnd.jupyter.widget-view+json": {
       "model_id": "dc5ccacd9f7c46b6a370869d69133587",
       "version_major": 2,
       "version_minor": 0
      },
      "text/plain": [
       "DraggableLabel(value='Drag me', draggable=True)"
      ]
     },
     "metadata": {},
     "output_type": "display_data"
    }
   ],
   "source": [
    "from ipywidgets import DropBox, DraggableLabel, Layout, Button\n",
    "\n",
    "label = DraggableLabel(\"Drag me\", draggable=True)\n",
    "label"
   ]
  },
  {
   "cell_type": "markdown",
   "metadata": {},
   "source": [
    "or **Select and drag me!**"
   ]
  },
  {
   "cell_type": "code",
   "execution_count": 10,
   "metadata": {},
   "outputs": [
    {
     "data": {
      "application/vnd.jupyter.widget-view+json": {
       "model_id": "18bfb408eb484ea5819c5e240b119163",
       "version_major": 2,
       "version_minor": 0
      },
      "text/plain": [
       "DropBox(children=(Label(value='Drop here!'),), layout=Layout(height='100px', width='200px'))"
      ]
     },
     "metadata": {},
     "output_type": "display_data"
    }
   ],
   "source": [
    "box = DropBox([Label(\"Drop here!\")],\n",
    "              layout=Layout(width='200px', height='100px'))\n",
    "def on_drop(widget, data):\n",
    "    text = data['text/plain']\n",
    "    widget.children = (Button(description=text.upper()), )\n",
    "box.on_drop(on_drop)\n",
    "box"
   ]
  },
  {
   "cell_type": "markdown",
   "metadata": {},
   "source": [
    "## Adding widgets to container with a handler"
   ]
  },
  {
   "cell_type": "markdown",
   "metadata": {},
   "source": [
    "You can also reproduce the Box example (adding elements to Box container) using `DropBox` with a custom handler:"
   ]
  },
  {
   "cell_type": "code",
   "execution_count": 11,
   "metadata": {},
   "outputs": [
    {
     "data": {
      "application/vnd.jupyter.widget-view+json": {
       "model_id": "70828d9a7c964bf3a1e0cb9ec8321bab",
       "version_major": 2,
       "version_minor": 0
      },
      "text/plain": [
       "DraggableLabel(value='Drag me', draggable=True)"
      ]
     },
     "metadata": {},
     "output_type": "display_data"
    }
   ],
   "source": [
    "from ipywidgets import DropBox, DraggableLabel, Layout, Label\n",
    "\n",
    "label = DraggableLabel(\"Drag me\", draggable=True)\n",
    "label"
   ]
  },
  {
   "cell_type": "code",
   "execution_count": 12,
   "metadata": {},
   "outputs": [
    {
     "data": {
      "application/vnd.jupyter.widget-view+json": {
       "model_id": "fe8ee1d67c3b4b1385fd47d4c882a38b",
       "version_major": 2,
       "version_minor": 0
      },
      "text/plain": [
       "DropBox(children=(Label(value='Drop here'),), layout=Layout(height='100px', width='200px'))"
      ]
     },
     "metadata": {},
     "output_type": "display_data"
    }
   ],
   "source": [
    "box = DropBox([Label('Drop here')], \n",
    "              layout=Layout(width='200px', height='100px'))\n",
    "def on_drop(widget, data):\n",
    "    source = widget.widgets[data['application/x-widget']]\n",
    "    widget.children += (source, )\n",
    "box.on_drop(on_drop)\n",
    "box"
   ]
  },
  {
   "cell_type": "markdown",
   "metadata": {},
   "source": [
    "**Explanation**: Label widget sets data on the drop event of type `application/x-widget` that contains the widget id of the dragged widget."
   ]
  },
  {
   "cell_type": "markdown",
   "metadata": {},
   "source": [
    "## Setting custom data on the drop event"
   ]
  },
  {
   "cell_type": "markdown",
   "metadata": {},
   "source": [
    "You can also set custom data on `DraggableLabel` that can be retreived and used in `on_drop` event."
   ]
  },
  {
   "cell_type": "code",
   "execution_count": 13,
   "metadata": {},
   "outputs": [
    {
     "data": {
      "application/vnd.jupyter.widget-view+json": {
       "model_id": "2c91ef3fc1a44324a0900a4199c53f53",
       "version_major": 2,
       "version_minor": 0
      },
      "text/plain": [
       "DraggableLabel(value='Drag me', drag_data={'application/custom-data': 'Custom data'}, draggable=True)"
      ]
     },
     "metadata": {},
     "output_type": "display_data"
    }
   ],
   "source": [
    "from ipywidgets import DraggableLabel\n",
    "l = DraggableLabel(\"Drag me\", draggable=True)\n",
    "l.drag_data = {'application/custom-data' : 'Custom data'}\n",
    "l"
   ]
  },
  {
   "cell_type": "code",
   "execution_count": 14,
   "metadata": {},
   "outputs": [
    {
     "data": {
      "application/vnd.jupyter.widget-view+json": {
       "model_id": "b5f7f3d641c54fee9d0b3ddcdc51525e",
       "version_major": 2,
       "version_minor": 0
      },
      "text/plain": [
       "DraggableLabel(value='Drop here')"
      ]
     },
     "metadata": {},
     "output_type": "display_data"
    }
   ],
   "source": [
    "l2 = DraggableLabel(\"Drop here\")\n",
    "def on_drop_handler(widget, data):\n",
    "    \"\"\"\"Arguments:\n",
    "    \n",
    "    widget : widget class\n",
    "        widget on which something was dropped\n",
    "        \n",
    "    data : dict\n",
    "        extra data sent from the dragged widget\"\"\"\n",
    "    \n",
    "    text = data['text/plain']\n",
    "    widget_id = data['application/x-widget']\n",
    "    custom_data = data['application/custom-data']\n",
    "    widget.value = (\"you dropped widget ID '{}...' \"\n",
    "                    \"with text '{}' and custom data '{}'\"\n",
    "                   ).format(widget_id[:5], text,  custom_data)\n",
    "l2.on_drop(on_drop_handler)\n",
    "l2"
   ]
  },
  {
   "cell_type": "markdown",
   "metadata": {},
   "source": [
    "## Making any widget draggable"
   ]
  },
  {
   "cell_type": "markdown",
   "metadata": {},
   "source": [
    "`DraggableBox` can be used to wrap any widget so that it can be dragged and dropped."
   ]
  },
  {
   "cell_type": "code",
   "execution_count": 15,
   "metadata": {},
   "outputs": [],
   "source": [
    "from ipywidgets import DraggableBox, Button, VBox, Layout, IntSlider, Label"
   ]
  },
  {
   "cell_type": "code",
   "execution_count": 16,
   "metadata": {},
   "outputs": [
    {
     "data": {
      "application/vnd.jupyter.widget-view+json": {
       "model_id": "5cd8cdd66e2f4eeca41ca3bd5423f570",
       "version_major": 2,
       "version_minor": 0
      },
      "text/plain": [
       "DraggableBox(children=(IntSlider(value=0, description='Drag me', layout=Layout(width='250px')),), draggable=Tr…"
      ]
     },
     "metadata": {},
     "output_type": "display_data"
    }
   ],
   "source": [
    "slider = IntSlider(layout=Layout(width='250px'), description='Drag me')\n",
    "DraggableBox([slider], draggable=True)"
   ]
  },
  {
   "cell_type": "code",
   "execution_count": 17,
   "metadata": {},
   "outputs": [
    {
     "data": {
      "application/vnd.jupyter.widget-view+json": {
       "model_id": "71a42cdcd48c4c33a04e422002eae8a6",
       "version_major": 2,
       "version_minor": 0
      },
      "text/plain": [
       "VBox(children=(Label(value='Drop sliders below'),), dropzone=True, layout=Layout(height='150px', width='250px'…"
      ]
     },
     "metadata": {},
     "output_type": "display_data"
    }
   ],
   "source": [
    "VBox([Label('Drop sliders below')], layout=Layout(width='250px', height='150px'), dropzone=True)"
   ]
  },
  {
   "cell_type": "markdown",
   "metadata": {},
   "source": [
    "## Draggable data columns"
   ]
  },
  {
   "cell_type": "markdown",
   "metadata": {},
   "source": [
    "This implements a bit more complex example."
   ]
  },
  {
   "cell_type": "code",
   "execution_count": 18,
   "metadata": {},
   "outputs": [],
   "source": [
    "import bqplot.pyplot as plt\n",
    "from ipywidgets import Label, GridspecLayout, DropBox, Layout, DraggableLabel\n",
    "import json"
   ]
  },
  {
   "cell_type": "code",
   "execution_count": 19,
   "metadata": {},
   "outputs": [],
   "source": [
    "def create_table(data):\n",
    "    n_cols = len(data)\n",
    "    n_rows = max(len(column) for column in data.values())\n",
    "    grid = GridspecLayout(n_rows+1, n_cols)\n",
    "    columnames = list(data.keys())\n",
    "    for i in range(n_cols):\n",
    "        column = columnames[i]\n",
    "        data_json = json.dumps(data[column])\n",
    "        grid[0, i] = DraggableLabel(columnames[i], draggable=True)\n",
    "        grid[0, i].draggable = True\n",
    "        grid[0, i].drag_data = {'data/app' : data_json}\n",
    "        for j in range(n_rows):\n",
    "            grid[j+1, i] = DraggableLabel(str(data[column][j]), draggable=True)\n",
    "            grid[j+1, i].drag_data = {'data/app' : data_json}\n",
    "    return grid"
   ]
  },
  {
   "cell_type": "code",
   "execution_count": 20,
   "metadata": {},
   "outputs": [],
   "source": [
    "box = DropBox([Label(\"Drag data from the table and drop it here.\")], layout=Layout(height='500px', width='800px'))\n",
    "def box_ondrop(widget, data):\n",
    "    fig = plt.figure()\n",
    "    y = json.loads(data['data/app'])\n",
    "    plt.plot(y)\n",
    "    widget.children = (fig, )\n",
    "box.on_drop(box_ondrop)"
   ]
  },
  {
   "cell_type": "code",
   "execution_count": 21,
   "metadata": {},
   "outputs": [
    {
     "data": {
      "application/vnd.jupyter.widget-view+json": {
       "model_id": "e6150222a50d4260aebe7de71c71a223",
       "version_major": 2,
       "version_minor": 0
      },
      "text/plain": [
       "GridspecLayout(children=(DraggableLabel(value='col1', drag_data={'data/app': '[4, 2, 1]'}, draggable=True, lay…"
      ]
     },
     "metadata": {},
     "output_type": "display_data"
    }
   ],
   "source": [
    "plot_data = {'col1' : [4, 2, 1],\n",
    "             'col2' : [1, 3 ,4],\n",
    "             'col3' : [-1, 2, -3]}\n",
    "create_table(plot_data)"
   ]
  },
  {
   "cell_type": "markdown",
   "metadata": {},
   "source": [
    "You can drag the data by the labels or values (the whole column will be dragged)."
   ]
  },
  {
   "cell_type": "code",
   "execution_count": 22,
   "metadata": {},
   "outputs": [
    {
     "data": {
      "application/vnd.jupyter.widget-view+json": {
       "model_id": "383f5915a8c3436d8714f1ae44a399a2",
       "version_major": 2,
       "version_minor": 0
      },
      "text/plain": [
       "DropBox(children=(Label(value='Drag data from the table and drop it here.'),), layout=Layout(height='500px', w…"
      ]
     },
     "metadata": {},
     "output_type": "display_data"
    }
   ],
   "source": [
    "box"
   ]
  },
  {
   "cell_type": "markdown",
   "metadata": {},
   "source": [
    "## Plot builder"
   ]
  },
  {
   "cell_type": "markdown",
   "metadata": {},
   "source": [
    "Here is another example allowing to build plots from a list of labels."
   ]
  },
  {
   "cell_type": "code",
   "execution_count": 23,
   "metadata": {},
   "outputs": [],
   "source": [
    "from ipywidgets import SelectMultiple, Layout, DraggableBox, DropBox, HBox\n",
    "import bqplot as bq\n",
    "\n",
    "select_list = SelectMultiple(\n",
    "    options=['Apples', 'Oranges', 'Pears'],\n",
    "    value=['Oranges'],\n",
    "    description='Fruits',\n",
    "    disabled=False\n",
    ")\n",
    "select_box = DraggableBox([select_list], draggable=True)\n",
    "\n",
    "fruits = {'Apples' : 5,\n",
    "          'Oranges' : 1,\n",
    "          'Pears': 3}\n",
    "\n",
    "\n",
    "fig = bq.Figure(marks=[], fig_margin = dict(left=50, right=0, top=0, bottom=70))\n",
    "fig.layout.height='300px'\n",
    "fig.layout.width='300px'\n",
    "fig_box = DropBox([fig])\n",
    "\n",
    "fig2 = bq.Figure(marks=[], fig_margin = dict(left=50, right=0, top=0, bottom=70))\n",
    "fig2.layout.height='300px'\n",
    "fig2.layout.width='300px'\n",
    "fig2_box = DropBox([fig2])\n",
    "\n",
    "def on_fig_drop(widget, data):\n",
    "    \n",
    "    # get the figure widget\n",
    "    fig = widget.children[0]\n",
    "    #get the selection widget\n",
    "    selection_widget = widget.widgets[data['application/x-widget']].children[0]\n",
    "    \n",
    "    # get the selected fruits and prices\n",
    "    selected = selection_widget.value\n",
    "    prices = [fruits[f] for f in selected]\n",
    "    \n",
    "    sc_x = bq.OrdinalScale()\n",
    "    sc_y = bq.LinearScale()\n",
    "\n",
    "    ax_x = bq.Axis(scale=sc_x)\n",
    "    ax_y = bq.Axis(scale=sc_y, orientation='vertical')\n",
    "    bars = bq.Bars(x=selected, y=prices, scales={'x' : sc_x, 'y' : sc_y })\n",
    "    fig.axes = [ax_x, ax_y]\n",
    "    fig.marks = [bars]\n",
    "\n",
    "fig_box.on_drop(on_fig_drop)\n",
    "fig2_box.on_drop(on_fig_drop)"
   ]
  },
  {
   "cell_type": "markdown",
   "metadata": {},
   "source": [
    "Select and drag fruits from the list to the boxes on the right. It's better to drag the selection using the \"Fruits\" label, due to a smalll glitch in the selection widget."
   ]
  },
  {
   "cell_type": "code",
   "execution_count": 24,
   "metadata": {},
   "outputs": [
    {
     "data": {
      "application/vnd.jupyter.widget-view+json": {
       "model_id": "2011a44e861b429ca5fecf9460b1bae4",
       "version_major": 2,
       "version_minor": 0
      },
      "text/plain": [
       "HBox(children=(DraggableBox(children=(SelectMultiple(description='Fruits', index=(1,), options=('Apples', 'Ora…"
      ]
     },
     "metadata": {},
     "output_type": "display_data"
    }
   ],
   "source": [
    "HBox([select_box,\n",
    "      fig_box,\n",
    "      fig2_box])"
   ]
  },
  {
   "cell_type": "code",
   "execution_count": null,
   "metadata": {},
   "outputs": [],
   "source": []
  }
 ],
 "metadata": {
  "kernelspec": {
   "display_name": "Python 3",
   "language": "python",
   "name": "python3"
  },
  "language_info": {
   "codemirror_mode": {
    "name": "ipython",
    "version": 3
   },
   "file_extension": ".py",
   "mimetype": "text/x-python",
   "name": "python",
   "nbconvert_exporter": "python",
   "pygments_lexer": "ipython3",
   "version": "3.7.2"
  }
 },
 "nbformat": 4,
 "nbformat_minor": 2
}

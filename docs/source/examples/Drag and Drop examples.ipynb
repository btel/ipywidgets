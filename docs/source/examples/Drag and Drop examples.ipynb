{
 "cells": [
  {
   "cell_type": "markdown",
   "metadata": {},
   "source": [
    "## Draggable Label"
   ]
  },
  {
   "cell_type": "markdown",
   "metadata": {},
   "source": [
    "`DraggbelLabel` is a label that can be dragged and dropped to other fields."
   ]
  },
  {
   "cell_type": "code",
   "execution_count": 1,
   "metadata": {},
   "outputs": [
    {
     "data": {
      "application/vnd.jupyter.widget-view+json": {
       "model_id": "1c4319cd9ec645c5859dc475a16f314f",
       "version_major": 2,
       "version_minor": 0
      },
      "text/plain": [
       "DraggableLabel(value='Drag me', draggable=True)"
      ]
     },
     "metadata": {},
     "output_type": "display_data"
    }
   ],
   "source": [
    "from ipywidgets import DraggableLabel, Textarea\n",
    "l = DraggableLabel(\"Drag me\", draggable=False)\n",
    "l.draggable = True\n",
    "l"
   ]
  },
  {
   "cell_type": "markdown",
   "metadata": {},
   "source": [
    "You can drag this label anywhere (could be your shell etc.), but also to a text area:"
   ]
  },
  {
   "cell_type": "code",
   "execution_count": 2,
   "metadata": {},
   "outputs": [
    {
     "data": {
      "application/vnd.jupyter.widget-view+json": {
       "model_id": "2c01bb52b657471c9e7307c02d5c9902",
       "version_major": 2,
       "version_minor": 0
      },
      "text/plain": [
       "Textarea(value='')"
      ]
     },
     "metadata": {},
     "output_type": "display_data"
    }
   ],
   "source": [
    "Textarea()"
   ]
  },
  {
   "cell_type": "markdown",
   "metadata": {},
   "source": [
    "## `on_drop` handler"
   ]
  },
  {
   "cell_type": "markdown",
   "metadata": {},
   "source": [
    "`DraggableLabel` can also become the drop zone (you can drop other stuff on it), if you implement the `on_drop` handler."
   ]
  },
  {
   "cell_type": "code",
   "execution_count": 3,
   "metadata": {},
   "outputs": [
    {
     "data": {
      "application/vnd.jupyter.widget-view+json": {
       "model_id": "609cddf3f8da4bb28a477e03c450fdf8",
       "version_major": 2,
       "version_minor": 0
      },
      "text/plain": [
       "DraggableLabel(value='Drag me', draggable=True)"
      ]
     },
     "metadata": {},
     "output_type": "display_data"
    }
   ],
   "source": [
    "from ipywidgets import DraggableLabel\n",
    "l1 = DraggableLabel(\"Drag me\", draggable=True)\n",
    "l1"
   ]
  },
  {
   "cell_type": "markdown",
   "metadata": {},
   "source": [
    "Now, drag this label on the label below."
   ]
  },
  {
   "cell_type": "code",
   "execution_count": 4,
   "metadata": {},
   "outputs": [
    {
     "data": {
      "application/vnd.jupyter.widget-view+json": {
       "model_id": "ccabd5eb4ec7421a9638f1459970b3aa",
       "version_major": 2,
       "version_minor": 0
      },
      "text/plain": [
       "DraggableLabel(value='Drop on me')"
      ]
     },
     "metadata": {},
     "output_type": "display_data"
    }
   ],
   "source": [
    "l2 = DraggableLabel(\"Drop on me\")\n",
    "def on_drop_handler(widget, data):\n",
    "    \"\"\"\"Arguments:\n",
    "    \n",
    "    widget : widget class\n",
    "        widget on which something was dropped\n",
    "        \n",
    "    data : dict\n",
    "        extra data sent from the dragged widget\"\"\"\n",
    "    \n",
    "    text = data['text/plain']\n",
    "    widget.value = \"congrats, you dropped '{}'\".format(text)\n",
    "l2.on_drop(on_drop_handler)\n",
    "l2"
   ]
  },
  {
   "cell_type": "markdown",
   "metadata": {},
   "source": [
    "**Note** : You can also drop other stuff (like files, images, links, selections, etc). Try it out!"
   ]
  },
  {
   "cell_type": "markdown",
   "metadata": {},
   "source": [
    "## Adding elements to the container"
   ]
  },
  {
   "cell_type": "markdown",
   "metadata": {},
   "source": [
    "You can drag widgets to Box container and its subclasses by simply dragging."
   ]
  },
  {
   "cell_type": "code",
   "execution_count": 19,
   "metadata": {},
   "outputs": [
    {
     "data": {
      "application/vnd.jupyter.widget-view+json": {
       "model_id": "3441a5fbe7574b3ab8f1d1d3c4794d66",
       "version_major": 2,
       "version_minor": 0
      },
      "text/plain": [
       "DraggableLabel(value='Drag me', draggable=True)"
      ]
     },
     "metadata": {},
     "output_type": "display_data"
    }
   ],
   "source": [
    "DraggableLabel(\"Drag me 1\", draggable=True)"
   ]
  },
  {
   "cell_type": "code",
   "execution_count": 22,
   "metadata": {},
   "outputs": [
    {
     "data": {
      "application/vnd.jupyter.widget-view+json": {
       "model_id": "431135b334fa4c248ffc3da3467ef8c4",
       "version_major": 2,
       "version_minor": 0
      },
      "text/plain": [
       "DraggableLabel(value='Drag me 2', draggable=True)"
      ]
     },
     "metadata": {},
     "output_type": "display_data"
    }
   ],
   "source": [
    "DraggableLabel(\"Drag me 2\", draggable=True)"
   ]
  },
  {
   "cell_type": "code",
   "execution_count": 23,
   "metadata": {},
   "outputs": [
    {
     "data": {
      "application/vnd.jupyter.widget-view+json": {
       "model_id": "cb52aec49b1840e7873c5c8451e51b1b",
       "version_major": 2,
       "version_minor": 0
      },
      "text/plain": [
       "Box(children=(Label(value='drag labels here'),), dropzone=True, layout=Layout(height='100px', width='400px'))"
      ]
     },
     "metadata": {},
     "output_type": "display_data"
    }
   ],
   "source": [
    "from ipywidgets import Box, DraggableLabel, Layout, Label, VBox\n",
    "normal_box = Box([Label('drag labels here')],\n",
    "                 layout=Layout(width='400px', height='100px'),\n",
    "                 dropzone=True)\n",
    "normal_box"
   ]
  },
  {
   "cell_type": "markdown",
   "metadata": {},
   "source": [
    "It also works for Box subclasses:"
   ]
  },
  {
   "cell_type": "code",
   "execution_count": 21,
   "metadata": {},
   "outputs": [
    {
     "data": {
      "application/vnd.jupyter.widget-view+json": {
       "model_id": "69905697c50f406b827a4607db7db37c",
       "version_major": 2,
       "version_minor": 0
      },
      "text/plain": [
       "VBox(children=(Label(value='drag labels here'),), dropzone=True, layout=Layout(height='100px', width='200px'))"
      ]
     },
     "metadata": {},
     "output_type": "display_data"
    }
   ],
   "source": [
    "vbox = VBox([Label('drag labels here')],\n",
    "                 layout=Layout(width='200px', height='100px'),\n",
    "                 dropzone=True)\n",
    "vbox"
   ]
  },
  {
   "cell_type": "markdown",
   "metadata": {},
   "source": [
    "## DropBox supports arbitrary drop operations"
   ]
  },
  {
   "cell_type": "markdown",
   "metadata": {},
   "source": [
    "If you have more specific needs for the drop behaviour you can also use DropBox widgets, which implements `on_drop` handlers."
   ]
  },
  {
   "cell_type": "markdown",
   "metadata": {},
   "source": [
    "This DropBox will replace elements with text of the dropped element (works also for stuff which is not widget):"
   ]
  },
  {
   "cell_type": "code",
   "execution_count": 27,
   "metadata": {},
   "outputs": [
    {
     "data": {
      "application/vnd.jupyter.widget-view+json": {
       "model_id": "505f397bde284081a80a6e5d54ae34df",
       "version_major": 2,
       "version_minor": 0
      },
      "text/plain": [
       "DraggableLabel(value='Drag me', draggable=True)"
      ]
     },
     "metadata": {},
     "output_type": "display_data"
    }
   ],
   "source": [
    "from ipywidgets import DropBox, DraggableLabel, Layout, Button\n",
    "\n",
    "label = DraggableLabel(\"Drag me\", draggable=True)\n",
    "label"
   ]
  },
  {
   "cell_type": "markdown",
   "metadata": {},
   "source": [
    "or **Select and drag me!**"
   ]
  },
  {
   "cell_type": "code",
   "execution_count": 30,
   "metadata": {},
   "outputs": [
    {
     "data": {
      "application/vnd.jupyter.widget-view+json": {
       "model_id": "c0876487eef34b7cbea610a132c28fe6",
       "version_major": 2,
       "version_minor": 0
      },
      "text/plain": [
       "DropBox(children=(Label(value='Drop here!'),), layout=Layout(height='100px', width='200px'))"
      ]
     },
     "metadata": {},
     "output_type": "display_data"
    }
   ],
   "source": [
    "box = DropBox([Label(\"Drop here!\")],\n",
    "              layout=Layout(width='200px', height='100px'))\n",
    "def on_drop(widget, data):\n",
    "    text = data['text/plain']\n",
    "    widget.children = (Button(description=text.upper()), )\n",
    "box.on_drop(on_drop)\n",
    "box"
   ]
  },
  {
   "cell_type": "markdown",
   "metadata": {},
   "source": [
    "## Adding widgets to container with handler"
   ]
  },
  {
   "cell_type": "markdown",
   "metadata": {},
   "source": [
    "You can also reproduce the Box example (adding elements to Box container) using `DropBox` with a custom handler:"
   ]
  },
  {
   "cell_type": "code",
   "execution_count": 31,
   "metadata": {},
   "outputs": [
    {
     "data": {
      "application/vnd.jupyter.widget-view+json": {
       "model_id": "bafa758ff05b413cbf0265b34e9a7f85",
       "version_major": 2,
       "version_minor": 0
      },
      "text/plain": [
       "DraggableLabel(value='Drag me', draggable=True)"
      ]
     },
     "metadata": {},
     "output_type": "display_data"
    }
   ],
   "source": [
    "from ipywidgets import DropBox, DraggableLabel, Layout, Label\n",
    "\n",
    "label = DraggableLabel(\"Drag me\", draggable=True)\n",
    "label"
   ]
  },
  {
   "cell_type": "code",
   "execution_count": 11,
   "metadata": {},
   "outputs": [
    {
     "data": {
      "application/vnd.jupyter.widget-view+json": {
       "model_id": "7cc8818ed0594f028357cc2ae9b074fa",
       "version_major": 2,
       "version_minor": 0
      },
      "text/plain": [
       "DropBox(children=(Label(value='Drop here'),), layout=Layout(height='100px', width='200px'))"
      ]
     },
     "metadata": {},
     "output_type": "display_data"
    }
   ],
   "source": [
    "box = DropBox([Label('Drop here')], \n",
    "              layout=Layout(width='200px', height='100px'))\n",
    "def on_drop(widget, data):\n",
    "    source = widget.widgets[data['application/x-widget']]\n",
    "    widget.children += (source, )\n",
    "box.on_drop(on_drop)\n",
    "box"
   ]
  },
  {
   "cell_type": "markdown",
   "metadata": {},
   "source": [
    "**Explanation**: Label widget sets data on the drop event of type `application/x-widget` that contains the widget id of the label."
   ]
  },
  {
   "cell_type": "markdown",
   "metadata": {},
   "source": [
    "## Setting custom data on the drop event"
   ]
  },
  {
   "cell_type": "markdown",
   "metadata": {},
   "source": [
    "You can also set custom data on `DraggableLabel` that can be retreived and used in `on_drop` event."
   ]
  },
  {
   "cell_type": "code",
   "execution_count": 12,
   "metadata": {},
   "outputs": [
    {
     "data": {
      "application/vnd.jupyter.widget-view+json": {
       "model_id": "079fb78675194746b0f6b918c9d358cb",
       "version_major": 2,
       "version_minor": 0
      },
      "text/plain": [
       "DraggableLabel(value='Drag me', drag_data={'application/custom-data': 'Custom data'}, draggable=True)"
      ]
     },
     "metadata": {},
     "output_type": "display_data"
    }
   ],
   "source": [
    "from ipywidgets import DraggableLabel\n",
    "l = DraggableLabel(\"Drag me\", draggable=True)\n",
    "l.drag_data = {'application/custom-data' : 'Custom data'}\n",
    "l"
   ]
  },
  {
   "cell_type": "code",
   "execution_count": 13,
   "metadata": {},
   "outputs": [
    {
     "data": {
      "application/vnd.jupyter.widget-view+json": {
       "model_id": "b13861349edd482c90532b09a897c5af",
       "version_major": 2,
       "version_minor": 0
      },
      "text/plain": [
       "DraggableLabel(value='Drop here')"
      ]
     },
     "metadata": {},
     "output_type": "display_data"
    }
   ],
   "source": [
    "l2 = DraggableLabel(\"Drop here\")\n",
    "def on_drop_handler(widget, data):\n",
    "    \"\"\"\"Arguments:\n",
    "    \n",
    "    widget : widget class\n",
    "        widget on which something was dropped\n",
    "        \n",
    "    data : dict\n",
    "        extra data sent from the dragged widget\"\"\"\n",
    "    \n",
    "    text = data['text/plain']\n",
    "    widget_id = data['application/x-widget']\n",
    "    custom_data = data['application/custom-data']\n",
    "    widget.value = (\"you dropped widget ID '{}...' \"\n",
    "                    \"with text '{}' and custom data '{}'\"\n",
    "                   ).format(widget_id[:5], text,  custom_data)\n",
    "l2.on_drop(on_drop_handler)\n",
    "l2"
   ]
  },
  {
   "cell_type": "markdown",
   "metadata": {},
   "source": [
    "## Draggable data columns"
   ]
  },
  {
   "cell_type": "markdown",
   "metadata": {},
   "source": [
    "This implements a bit more complex example."
   ]
  },
  {
   "cell_type": "code",
   "execution_count": 14,
   "metadata": {},
   "outputs": [],
   "source": [
    "import bqplot.pyplot as plt\n",
    "from ipywidgets import Label, GridspecLayout, DropBox, Layout, DraggableLabel\n",
    "import json"
   ]
  },
  {
   "cell_type": "code",
   "execution_count": 15,
   "metadata": {},
   "outputs": [],
   "source": [
    "def create_table(data):\n",
    "    n_cols = len(data)\n",
    "    n_rows = max(len(column) for column in data.values())\n",
    "    grid = GridspecLayout(n_rows+1, n_cols)\n",
    "    columnames = list(data.keys())\n",
    "    for i in range(n_cols):\n",
    "        column = columnames[i]\n",
    "        data_json = json.dumps(data[column])\n",
    "        grid[0, i] = DraggableLabel(columnames[i], draggable=True)\n",
    "        grid[0, i].draggable = True\n",
    "        grid[0, i].drag_data = {'data/app' : data_json}\n",
    "        for j in range(n_rows):\n",
    "            grid[j+1, i] = DraggableLabel(str(data[column][j]), draggable=True)\n",
    "            grid[j+1, i].drag_data = {'data/app' : data_json}\n",
    "    return grid"
   ]
  },
  {
   "cell_type": "code",
   "execution_count": 16,
   "metadata": {},
   "outputs": [],
   "source": [
    "box = DropBox([Label(\"Drag data from the table and drop it here.\")], layout=Layout(height='500px', width='800px'))\n",
    "def box_ondrop(widget, data):\n",
    "    fig = plt.figure()\n",
    "    y = json.loads(data['data/app'])\n",
    "    plt.plot(y)\n",
    "    widget.children = (fig, )\n",
    "box.on_drop(box_ondrop)"
   ]
  },
  {
   "cell_type": "code",
   "execution_count": 17,
   "metadata": {},
   "outputs": [
    {
     "data": {
      "application/vnd.jupyter.widget-view+json": {
       "model_id": "05b18ca16a4b40419336d1b2e8479254",
       "version_major": 2,
       "version_minor": 0
      },
      "text/plain": [
       "GridspecLayout(children=(DraggableLabel(value='col1', drag_data={'data/app': '[4, 2, 1]'}, draggable=True, lay…"
      ]
     },
     "metadata": {},
     "output_type": "display_data"
    }
   ],
   "source": [
    "plot_data = {'col1' : [4, 2, 1],\n",
    "             'col2' : [1, 3 ,4],\n",
    "             'col3' : [-1, 2, -3]}\n",
    "create_table(plot_data)"
   ]
  },
  {
   "cell_type": "code",
   "execution_count": 18,
   "metadata": {},
   "outputs": [
    {
     "data": {
      "application/vnd.jupyter.widget-view+json": {
       "model_id": "f7ce98e5ac654818bf24fd273f955df2",
       "version_major": 2,
       "version_minor": 0
      },
      "text/plain": [
       "DropBox(children=(Label(value='Drag data from the table and drop it here.'),), layout=Layout(height='500px', w…"
      ]
     },
     "metadata": {},
     "output_type": "display_data"
    }
   ],
   "source": [
    "box"
   ]
  },
  {
   "cell_type": "code",
   "execution_count": null,
   "metadata": {},
   "outputs": [],
   "source": []
  }
 ],
 "metadata": {
  "kernelspec": {
   "display_name": "Python 3",
   "language": "python",
   "name": "python3"
  },
  "language_info": {
   "codemirror_mode": {
    "name": "ipython",
    "version": 3
   },
   "file_extension": ".py",
   "mimetype": "text/x-python",
   "name": "python",
   "nbconvert_exporter": "python",
   "pygments_lexer": "ipython3",
   "version": "3.7.2"
  }
 },
 "nbformat": 4,
 "nbformat_minor": 2
}
